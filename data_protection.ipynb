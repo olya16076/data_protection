{
 "cells": [
  {
   "cell_type": "markdown",
   "id": "1fa52121",
   "metadata": {},
   "source": [
    "# Защита персональных данных клиентов"
   ]
  },
  {
   "cell_type": "markdown",
   "id": "690cda72",
   "metadata": {},
   "source": [
    "Вам нужно защитить данные клиентов страховой компании «Хоть потоп». Разработайте такой метод преобразования данных, чтобы по ним было сложно восстановить персональную информацию. Обоснуйте корректность его работы.\n",
    "\n",
    "Нужно защитить данные, чтобы при преобразовании качество моделей машинного обучения не ухудшилось. Подбирать наилучшую модель не требуется.\n"
   ]
  },
  {
   "cell_type": "markdown",
   "id": "4fb84b8b",
   "metadata": {},
   "source": [
    "# 1  Загрузка данных"
   ]
  },
  {
   "cell_type": "code",
   "execution_count": 1,
   "id": "d7eba0c7",
   "metadata": {},
   "outputs": [
    {
     "name": "stdout",
     "output_type": "stream",
     "text": [
      "Requirement already satisfied: phik in c:\\users\\user\\anaconda3\\lib\\site-packages (0.12.3)\n",
      "Requirement already satisfied: numpy>=1.18.0 in c:\\users\\user\\anaconda3\\lib\\site-packages (from phik) (1.21.5)\n",
      "Requirement already satisfied: scipy>=1.5.2 in c:\\users\\user\\anaconda3\\lib\\site-packages (from phik) (1.9.1)\n",
      "Requirement already satisfied: matplotlib>=2.2.3 in c:\\users\\user\\anaconda3\\lib\\site-packages (from phik) (3.5.2)\n",
      "Requirement already satisfied: pandas>=0.25.1 in c:\\users\\user\\anaconda3\\lib\\site-packages (from phik) (1.4.4)\n",
      "Requirement already satisfied: joblib>=0.14.1 in c:\\users\\user\\anaconda3\\lib\\site-packages (from phik) (1.1.0)\n",
      "Requirement already satisfied: pyparsing>=2.2.1 in c:\\users\\user\\anaconda3\\lib\\site-packages (from matplotlib>=2.2.3->phik) (3.0.9)\n",
      "Requirement already satisfied: pillow>=6.2.0 in c:\\users\\user\\anaconda3\\lib\\site-packages (from matplotlib>=2.2.3->phik) (9.2.0)\n",
      "Requirement already satisfied: kiwisolver>=1.0.1 in c:\\users\\user\\anaconda3\\lib\\site-packages (from matplotlib>=2.2.3->phik) (1.4.2)\n",
      "Requirement already satisfied: packaging>=20.0 in c:\\users\\user\\anaconda3\\lib\\site-packages (from matplotlib>=2.2.3->phik) (21.3)\n",
      "Requirement already satisfied: cycler>=0.10 in c:\\users\\user\\anaconda3\\lib\\site-packages (from matplotlib>=2.2.3->phik) (0.11.0)\n",
      "Requirement already satisfied: python-dateutil>=2.7 in c:\\users\\user\\anaconda3\\lib\\site-packages (from matplotlib>=2.2.3->phik) (2.8.2)\n",
      "Requirement already satisfied: fonttools>=4.22.0 in c:\\users\\user\\anaconda3\\lib\\site-packages (from matplotlib>=2.2.3->phik) (4.25.0)\n",
      "Requirement already satisfied: pytz>=2020.1 in c:\\users\\user\\anaconda3\\lib\\site-packages (from pandas>=0.25.1->phik) (2022.1)\n",
      "Requirement already satisfied: six>=1.5 in c:\\users\\user\\anaconda3\\lib\\site-packages (from python-dateutil>=2.7->matplotlib>=2.2.3->phik) (1.16.0)\n"
     ]
    }
   ],
   "source": [
    "#импорт библиотек\n",
    "import pandas as pd\n",
    "import numpy as np\n",
    "from sklearn.metrics import mean_squared_error\n",
    "from sklearn.model_selection import train_test_split\n",
    "from sklearn.linear_model import LinearRegression\n",
    "from sklearn.metrics import accuracy_score\n",
    "import warnings\n",
    "warnings.filterwarnings('ignore')\n",
    "from sklearn.metrics import r2_score\n",
    "from tqdm.notebook import tqdm\n",
    "import matplotlib.pyplot as plt\n",
    "import seaborn as sns\n",
    "from sklearn.preprocessing import StandardScaler\n",
    "import matplotlib.pyplot as plt\n",
    "!pip install phik\n",
    "import phik\n",
    "from phik.report import plot_correlation_matrix"
   ]
  },
  {
   "cell_type": "code",
   "execution_count": 2,
   "id": "e0e0f544",
   "metadata": {},
   "outputs": [
    {
     "data": {
      "text/html": [
       "<div>\n",
       "<style scoped>\n",
       "    .dataframe tbody tr th:only-of-type {\n",
       "        vertical-align: middle;\n",
       "    }\n",
       "\n",
       "    .dataframe tbody tr th {\n",
       "        vertical-align: top;\n",
       "    }\n",
       "\n",
       "    .dataframe thead th {\n",
       "        text-align: right;\n",
       "    }\n",
       "</style>\n",
       "<table border=\"1\" class=\"dataframe\">\n",
       "  <thead>\n",
       "    <tr style=\"text-align: right;\">\n",
       "      <th></th>\n",
       "      <th>Пол</th>\n",
       "      <th>Возраст</th>\n",
       "      <th>Зарплата</th>\n",
       "      <th>Члены семьи</th>\n",
       "      <th>Страховые выплаты</th>\n",
       "    </tr>\n",
       "  </thead>\n",
       "  <tbody>\n",
       "    <tr>\n",
       "      <th>0</th>\n",
       "      <td>1</td>\n",
       "      <td>41.0</td>\n",
       "      <td>49600.0</td>\n",
       "      <td>1</td>\n",
       "      <td>0</td>\n",
       "    </tr>\n",
       "    <tr>\n",
       "      <th>1</th>\n",
       "      <td>0</td>\n",
       "      <td>46.0</td>\n",
       "      <td>38000.0</td>\n",
       "      <td>1</td>\n",
       "      <td>1</td>\n",
       "    </tr>\n",
       "    <tr>\n",
       "      <th>2</th>\n",
       "      <td>0</td>\n",
       "      <td>29.0</td>\n",
       "      <td>21000.0</td>\n",
       "      <td>0</td>\n",
       "      <td>0</td>\n",
       "    </tr>\n",
       "    <tr>\n",
       "      <th>3</th>\n",
       "      <td>0</td>\n",
       "      <td>21.0</td>\n",
       "      <td>41700.0</td>\n",
       "      <td>2</td>\n",
       "      <td>0</td>\n",
       "    </tr>\n",
       "    <tr>\n",
       "      <th>4</th>\n",
       "      <td>1</td>\n",
       "      <td>28.0</td>\n",
       "      <td>26100.0</td>\n",
       "      <td>0</td>\n",
       "      <td>0</td>\n",
       "    </tr>\n",
       "    <tr>\n",
       "      <th>5</th>\n",
       "      <td>1</td>\n",
       "      <td>43.0</td>\n",
       "      <td>41000.0</td>\n",
       "      <td>2</td>\n",
       "      <td>1</td>\n",
       "    </tr>\n",
       "    <tr>\n",
       "      <th>6</th>\n",
       "      <td>1</td>\n",
       "      <td>39.0</td>\n",
       "      <td>39700.0</td>\n",
       "      <td>2</td>\n",
       "      <td>0</td>\n",
       "    </tr>\n",
       "    <tr>\n",
       "      <th>7</th>\n",
       "      <td>1</td>\n",
       "      <td>25.0</td>\n",
       "      <td>38600.0</td>\n",
       "      <td>4</td>\n",
       "      <td>0</td>\n",
       "    </tr>\n",
       "    <tr>\n",
       "      <th>8</th>\n",
       "      <td>1</td>\n",
       "      <td>36.0</td>\n",
       "      <td>49700.0</td>\n",
       "      <td>1</td>\n",
       "      <td>0</td>\n",
       "    </tr>\n",
       "    <tr>\n",
       "      <th>9</th>\n",
       "      <td>1</td>\n",
       "      <td>32.0</td>\n",
       "      <td>51700.0</td>\n",
       "      <td>1</td>\n",
       "      <td>0</td>\n",
       "    </tr>\n",
       "  </tbody>\n",
       "</table>\n",
       "</div>"
      ],
      "text/plain": [
       "   Пол  Возраст  Зарплата  Члены семьи  Страховые выплаты\n",
       "0    1     41.0   49600.0            1                  0\n",
       "1    0     46.0   38000.0            1                  1\n",
       "2    0     29.0   21000.0            0                  0\n",
       "3    0     21.0   41700.0            2                  0\n",
       "4    1     28.0   26100.0            0                  0\n",
       "5    1     43.0   41000.0            2                  1\n",
       "6    1     39.0   39700.0            2                  0\n",
       "7    1     25.0   38600.0            4                  0\n",
       "8    1     36.0   49700.0            1                  0\n",
       "9    1     32.0   51700.0            1                  0"
      ]
     },
     "execution_count": 2,
     "metadata": {},
     "output_type": "execute_result"
    }
   ],
   "source": [
    "data = pd.read_csv('insurance.csv')\n",
    "data.head(10)"
   ]
  },
  {
   "cell_type": "code",
   "execution_count": 3,
   "id": "8b746cc7",
   "metadata": {},
   "outputs": [
    {
     "name": "stdout",
     "output_type": "stream",
     "text": [
      "<class 'pandas.core.frame.DataFrame'>\n",
      "RangeIndex: 5000 entries, 0 to 4999\n",
      "Data columns (total 5 columns):\n",
      " #   Column             Non-Null Count  Dtype  \n",
      "---  ------             --------------  -----  \n",
      " 0   Пол                5000 non-null   int64  \n",
      " 1   Возраст            5000 non-null   float64\n",
      " 2   Зарплата           5000 non-null   float64\n",
      " 3   Члены семьи        5000 non-null   int64  \n",
      " 4   Страховые выплаты  5000 non-null   int64  \n",
      "dtypes: float64(2), int64(3)\n",
      "memory usage: 195.4 KB\n"
     ]
    }
   ],
   "source": [
    "data.info()"
   ]
  },
  {
   "cell_type": "code",
   "execution_count": 4,
   "id": "33747b24",
   "metadata": {},
   "outputs": [
    {
     "name": "stdout",
     "output_type": "stream",
     "text": [
      "Количество явных дубликатов : 153\n"
     ]
    }
   ],
   "source": [
    "print('Количество явных дубликатов :', data.duplicated().sum())"
   ]
  },
  {
   "cell_type": "code",
   "execution_count": 5,
   "id": "1c8537aa",
   "metadata": {},
   "outputs": [
    {
     "name": "stdout",
     "output_type": "stream",
     "text": [
      "Количество пропущенных значений: 0\n"
     ]
    }
   ],
   "source": [
    "#информация о сумме пропущенных значений\n",
    "print('Количество пропущенных значений:', data.isnull().sum().sum ())"
   ]
  },
  {
   "cell_type": "code",
   "execution_count": 6,
   "id": "dde4e38f",
   "metadata": {},
   "outputs": [
    {
     "data": {
      "text/html": [
       "<div>\n",
       "<style scoped>\n",
       "    .dataframe tbody tr th:only-of-type {\n",
       "        vertical-align: middle;\n",
       "    }\n",
       "\n",
       "    .dataframe tbody tr th {\n",
       "        vertical-align: top;\n",
       "    }\n",
       "\n",
       "    .dataframe thead th {\n",
       "        text-align: right;\n",
       "    }\n",
       "</style>\n",
       "<table border=\"1\" class=\"dataframe\">\n",
       "  <thead>\n",
       "    <tr style=\"text-align: right;\">\n",
       "      <th></th>\n",
       "      <th>Пол</th>\n",
       "      <th>Возраст</th>\n",
       "      <th>Зарплата</th>\n",
       "      <th>Члены семьи</th>\n",
       "      <th>Страховые выплаты</th>\n",
       "    </tr>\n",
       "  </thead>\n",
       "  <tbody>\n",
       "    <tr>\n",
       "      <th>count</th>\n",
       "      <td>5000.000000</td>\n",
       "      <td>5000.000000</td>\n",
       "      <td>5000.000000</td>\n",
       "      <td>5000.000000</td>\n",
       "      <td>5000.000000</td>\n",
       "    </tr>\n",
       "    <tr>\n",
       "      <th>mean</th>\n",
       "      <td>0.499000</td>\n",
       "      <td>30.952800</td>\n",
       "      <td>39916.360000</td>\n",
       "      <td>1.194200</td>\n",
       "      <td>0.148000</td>\n",
       "    </tr>\n",
       "    <tr>\n",
       "      <th>std</th>\n",
       "      <td>0.500049</td>\n",
       "      <td>8.440807</td>\n",
       "      <td>9900.083569</td>\n",
       "      <td>1.091387</td>\n",
       "      <td>0.463183</td>\n",
       "    </tr>\n",
       "    <tr>\n",
       "      <th>min</th>\n",
       "      <td>0.000000</td>\n",
       "      <td>18.000000</td>\n",
       "      <td>5300.000000</td>\n",
       "      <td>0.000000</td>\n",
       "      <td>0.000000</td>\n",
       "    </tr>\n",
       "    <tr>\n",
       "      <th>25%</th>\n",
       "      <td>0.000000</td>\n",
       "      <td>24.000000</td>\n",
       "      <td>33300.000000</td>\n",
       "      <td>0.000000</td>\n",
       "      <td>0.000000</td>\n",
       "    </tr>\n",
       "    <tr>\n",
       "      <th>50%</th>\n",
       "      <td>0.000000</td>\n",
       "      <td>30.000000</td>\n",
       "      <td>40200.000000</td>\n",
       "      <td>1.000000</td>\n",
       "      <td>0.000000</td>\n",
       "    </tr>\n",
       "    <tr>\n",
       "      <th>75%</th>\n",
       "      <td>1.000000</td>\n",
       "      <td>37.000000</td>\n",
       "      <td>46600.000000</td>\n",
       "      <td>2.000000</td>\n",
       "      <td>0.000000</td>\n",
       "    </tr>\n",
       "    <tr>\n",
       "      <th>max</th>\n",
       "      <td>1.000000</td>\n",
       "      <td>65.000000</td>\n",
       "      <td>79000.000000</td>\n",
       "      <td>6.000000</td>\n",
       "      <td>5.000000</td>\n",
       "    </tr>\n",
       "  </tbody>\n",
       "</table>\n",
       "</div>"
      ],
      "text/plain": [
       "               Пол      Возраст      Зарплата  Члены семьи  Страховые выплаты\n",
       "count  5000.000000  5000.000000   5000.000000  5000.000000        5000.000000\n",
       "mean      0.499000    30.952800  39916.360000     1.194200           0.148000\n",
       "std       0.500049     8.440807   9900.083569     1.091387           0.463183\n",
       "min       0.000000    18.000000   5300.000000     0.000000           0.000000\n",
       "25%       0.000000    24.000000  33300.000000     0.000000           0.000000\n",
       "50%       0.000000    30.000000  40200.000000     1.000000           0.000000\n",
       "75%       1.000000    37.000000  46600.000000     2.000000           0.000000\n",
       "max       1.000000    65.000000  79000.000000     6.000000           5.000000"
      ]
     },
     "execution_count": 6,
     "metadata": {},
     "output_type": "execute_result"
    }
   ],
   "source": [
    "data.describe()"
   ]
  },
  {
   "cell_type": "code",
   "execution_count": 7,
   "id": "e394d766",
   "metadata": {},
   "outputs": [
    {
     "name": "stdout",
     "output_type": "stream",
     "text": [
      "(5000, 5)\n"
     ]
    }
   ],
   "source": [
    "print(data.shape)"
   ]
  },
  {
   "cell_type": "code",
   "execution_count": 8,
   "id": "c72aab51",
   "metadata": {},
   "outputs": [
    {
     "data": {
      "image/png": "[encoded data removed]",
      "text/plain": [
       "<Figure size 1000x800 with 2 Axes>"
      ]
     },
     "metadata": {},
     "output_type": "display_data"
    }
   ],
   "source": [
    "interval_cols = [ ]\n",
    "phik_overview = data.phik_matrix(interval_cols=interval_cols)\n",
    "\n",
    "plot_correlation_matrix(phik_overview.values, \n",
    "                        x_labels=phik_overview.columns, \n",
    "                        y_labels=phik_overview.index, \n",
    "                        vmin=0, vmax=1, color_map=\"Greens\", \n",
    "                        title=r\"correlation $\\phi_K$\", \n",
    "                        fontsize_factor=1.5, \n",
    "                        figsize=(10, 8))"
   ]
  },
  {
   "cell_type": "code",
   "execution_count": 9,
   "id": "d06a4590",
   "metadata": {},
   "outputs": [
    {
     "data": {
      "text/plain": [
       "<AxesSubplot:xlabel='Пол'>"
      ]
     },
     "execution_count": 9,
     "metadata": {},
     "output_type": "execute_result"
    },
    {
     "data": {
      "image/png": "[encoded data removed]",
      "text/plain": [
       "<Figure size 1100x700 with 1 Axes>"
      ]
     },
     "metadata": {},
     "output_type": "display_data"
    }
   ],
   "source": [
    "data.groupby('Пол')['Страховые выплаты'].sum().plot(kind='bar', figsize=(11, 7), color='#73A9AD')\n"
   ]
  },
  {
   "cell_type": "code",
   "execution_count": 10,
   "id": "ad917371",
   "metadata": {},
   "outputs": [
    {
     "data": {
      "text/plain": [
       "<AxesSubplot:xlabel='Возраст'>"
      ]
     },
     "execution_count": 10,
     "metadata": {},
     "output_type": "execute_result"
    },
    {
     "data": {
      "image/png": "[encoded data removed]",
      "text/plain": [
       "<Figure size 1100x700 with 1 Axes>"
      ]
     },
     "metadata": {},
     "output_type": "display_data"
    },
    {
     "data": {
      "image/png": "[encoded data removed]",
      "text/plain": [
       "<Figure size 1000x1000 with 1 Axes>"
      ]
     },
     "metadata": {},
     "output_type": "display_data"
    }
   ],
   "source": [
    "data.groupby('Возраст')['Страховые выплаты'].sum().plot(kind='bar', figsize=(11, 7), color='#73A9AD')\n",
    "data.pivot_table(index='Возраст', values='Страховые выплаты').plot(grid=True, style='o-', figsize=(10,10))"
   ]
  },
  {
   "cell_type": "code",
   "execution_count": 11,
   "id": "f326f50e",
   "metadata": {},
   "outputs": [
    {
     "data": {
      "text/plain": [
       "<AxesSubplot:xlabel='Члены семьи'>"
      ]
     },
     "execution_count": 11,
     "metadata": {},
     "output_type": "execute_result"
    },
    {
     "data": {
      "image/png": "[encoded data removed]",
      "text/plain": [
       "<Figure size 1100x700 with 1 Axes>"
      ]
     },
     "metadata": {},
     "output_type": "display_data"
    }
   ],
   "source": [
    "data.groupby('Члены семьи')['Страховые выплаты'].sum().plot(kind='bar', figsize=(11, 7), color='#73A9AD')"
   ]
  },
  {
   "cell_type": "code",
   "execution_count": 12,
   "id": "f9e4a69e",
   "metadata": {},
   "outputs": [],
   "source": [
    "def type_of_salary(row):\n",
    "    Salary = row['Зарплата']\n",
    "    if Salary < 20000.0:\n",
    "        return 'D'\n",
    "    if 20000.1 < Salary < 40000.0:\n",
    "        return 'C'\n",
    "    if 40000.1 < Salary < 60000.0:\n",
    "        return 'B'\n",
    "    if  Salary > 60000.1:\n",
    "        return 'A'\n",
    "data['Salary'] = data.apply(type_of_salary, axis=1)"
   ]
  },
  {
   "cell_type": "code",
   "execution_count": 13,
   "id": "f5634105",
   "metadata": {},
   "outputs": [
    {
     "data": {
      "text/plain": [
       "<AxesSubplot:xlabel='Salary'>"
      ]
     },
     "execution_count": 13,
     "metadata": {},
     "output_type": "execute_result"
    },
    {
     "data": {
      "image/png": "[encoded data removed]",
      "text/plain": [
       "<Figure size 1100x700 with 1 Axes>"
      ]
     },
     "metadata": {},
     "output_type": "display_data"
    },
    {
     "data": {
      "image/png": "[encoded data removed]",
      "text/plain": [
       "<Figure size 1000x1000 with 1 Axes>"
      ]
     },
     "metadata": {},
     "output_type": "display_data"
    }
   ],
   "source": [
    "data.groupby('Salary')['Страховые выплаты'].sum().plot(kind='bar', figsize=(11, 7), color='#73A9AD')\n",
    "data.pivot_table(index='Salary', values='Страховые выплаты').plot(grid=True, style='o-', figsize=(10,10))\n"
   ]
  },
  {
   "cell_type": "code",
   "execution_count": 14,
   "id": "d0940d94",
   "metadata": {},
   "outputs": [],
   "source": [
    "data['Зарплата'] = data['Зарплата'].astype('int64')"
   ]
  },
  {
   "cell_type": "code",
   "execution_count": 15,
   "id": "ff6e392b",
   "metadata": {},
   "outputs": [],
   "source": [
    "data['Возраст'] = data['Возраст'].astype('int64')"
   ]
  },
  {
   "cell_type": "code",
   "execution_count": 16,
   "id": "7fcf1109",
   "metadata": {},
   "outputs": [],
   "source": [
    "data = data.drop_duplicates ()"
   ]
  },
  {
   "cell_type": "markdown",
   "id": "9a3f4acb",
   "metadata": {},
   "source": [
    "Таблица состоит из 5 столбцов \"Пол\", \"Возраст\", \"Зарплата\", \"Члены семьи\", \"Страховые выплаты\". Из них зарплата и возраст имели тип данных вещественных (float64). Я произвела перевод в целочисленный (int64). Количество пропущенных значений 0. Количество явных дубликатов 153, что составляет 3,06 % от количества всех данных. Я проивела удаление дубликатов без вреда для данных. Наибольшая зависимость целевого признака страховых выплат от возраста(0.65), наименьшая от пола.Обратная зависимость страховых выплат от количества членов семьи обратная(-0.036) При этом страховые выплаты выплачиваются в наибольшей степени лицам от 42 лет, с не более 2-х членов семьи, при заработной плате менее 20 тысяч рублей, при этом наибольшее количество выплат суммарно от 40 до 60 тысяч рублей. Это можно объяснить высоким распространением среди среднего класса количества застрахованных лиц. Но корреляция небольшая дохода и Страховых выплат."
   ]
  },
  {
   "cell_type": "code",
   "execution_count": 17,
   "id": "a59c8a8b",
   "metadata": {},
   "outputs": [
    {
     "name": "stdout",
     "output_type": "stream",
     "text": [
      "<class 'pandas.core.frame.DataFrame'>\n",
      "Int64Index: 4847 entries, 0 to 4999\n",
      "Data columns (total 6 columns):\n",
      " #   Column             Non-Null Count  Dtype \n",
      "---  ------             --------------  ----- \n",
      " 0   Пол                4847 non-null   int64 \n",
      " 1   Возраст            4847 non-null   int64 \n",
      " 2   Зарплата           4847 non-null   int64 \n",
      " 3   Члены семьи        4847 non-null   int64 \n",
      " 4   Страховые выплаты  4847 non-null   int64 \n",
      " 5   Salary             4829 non-null   object\n",
      "dtypes: int64(5), object(1)\n",
      "memory usage: 265.1+ KB\n"
     ]
    }
   ],
   "source": [
    "data.info()"
   ]
  },
  {
   "cell_type": "code",
   "execution_count": 18,
   "id": "a5a0848f",
   "metadata": {},
   "outputs": [],
   "source": [
    "data =  data.drop('Salary',  axis=1)"
   ]
  },
  {
   "cell_type": "code",
   "execution_count": 19,
   "id": "8be15f31",
   "metadata": {},
   "outputs": [
    {
     "name": "stdout",
     "output_type": "stream",
     "text": [
      "<class 'pandas.core.frame.DataFrame'>\n",
      "Int64Index: 4847 entries, 0 to 4999\n",
      "Data columns (total 5 columns):\n",
      " #   Column             Non-Null Count  Dtype\n",
      "---  ------             --------------  -----\n",
      " 0   Пол                4847 non-null   int64\n",
      " 1   Возраст            4847 non-null   int64\n",
      " 2   Зарплата           4847 non-null   int64\n",
      " 3   Члены семьи        4847 non-null   int64\n",
      " 4   Страховые выплаты  4847 non-null   int64\n",
      "dtypes: int64(5)\n",
      "memory usage: 227.2 KB\n"
     ]
    }
   ],
   "source": [
    "data.info()"
   ]
  },
  {
   "cell_type": "markdown",
   "id": "c4d213b8",
   "metadata": {},
   "source": [
    "# 2  Умножение матриц"
   ]
  },
  {
   "cell_type": "markdown",
   "id": "306de63e",
   "metadata": {},
   "source": [
    "В этом задании вы можете записывать формулы в *Jupyter Notebook.*\n",
    "\n",
    "Чтобы записать формулу внутри текста, окружите её символами доллара \\\\$; если снаружи —  двойными символами \\\\$\\\\$. Эти формулы записываются на языке вёрстки *LaTeX.* \n",
    "\n",
    "Для примера мы записали формулы линейной регрессии. Можете их скопировать и отредактировать, чтобы решить задачу.\n",
    "\n",
    "Работать в *LaTeX* необязательно."
   ]
  },
  {
   "cell_type": "markdown",
   "id": "71a6b709",
   "metadata": {},
   "source": [
    "Обозначения:\n",
    "\n",
    "- $X$ — матрица признаков (нулевой столбец состоит из единиц)\n",
    "\n",
    "- $y$ — вектор целевого признака\n",
    "\n",
    "- $P$ — матрица, на которую умножаются признаки\n",
    "\n",
    "- $w$ — вектор весов линейной регрессии (нулевой элемент равен сдвигу)"
   ]
  },
  {
   "cell_type": "markdown",
   "id": "7155c068",
   "metadata": {},
   "source": [
    "Предсказания:\n",
    "\n",
    "$$\n",
    "a = Xw\n",
    "$$\n",
    "\n",
    "Задача обучения:\n",
    "\n",
    "$$\n",
    "w = \\arg\\min_w MSE(Xw, y)\n",
    "$$\n",
    "\n",
    "Формула обучения:\n",
    "\n",
    "$$\n",
    "w = (X^T X)^{-1} X^T y\n",
    "$$\n",
    " \n"
   ]
  },
  {
   "cell_type": "markdown",
   "id": "55210be0",
   "metadata": {},
   "source": [
    "** Ответ:** При умножении матриц качество линейной регрессии не ухудшается."
   ]
  },
  {
   "cell_type": "markdown",
   "id": "d52c79b7",
   "metadata": {},
   "source": [
    "** Обоснование:**\n",
    "\n",
    " Произвожу умножение матриц:\n",
    "                           \n",
    "$$\n",
    "F = XP\n",
    "$$\n",
    "\n",
    "где, $F$ = произведение матрицы признаков $X$ на матрицу, на которую умножаются признаки(обратимая матрица)\n",
    "\n",
    "Введу переменные $af$- предсказания $F$, a $wf$ - вектор весов $F$\n",
    "               \n",
    "Вместо матрицы признаков $X$ вставлю в формулу произведение матриц $F$\n",
    "$$\n",
    "af = F𝑤f\n",
    "$$\n",
    "\n",
    "$$\n",
    "wf = (F𝑇F)^−1F𝑇𝑦\n",
    "$$\n",
    "Заменю $F$ на $XP$ в двух формулах, а также в формуле предсказаний $a$ заменю wf полной формулой(правой частью равенства)\n",
    "$$\n",
    "af = XP((XP)^TXP)^-1(XP)^Ty\n",
    "$$\n",
    " Одним из свойств операция над матрицами является:\n",
    " \n",
    " $$\n",
    " (RD)^s = D^sR^s\n",
    " $$\n",
    " \n",
    " $$\n",
    " (RD)^-1 = D^-1 R^-1\n",
    " $$\n",
    "   из этого следуют преобразования в формуле предсказаний\n",
    "   \n",
    "  $$\n",
    "  af = XP P^-1 (X^T X)^{-1} (P^T)^{-1} P^T X^T y\n",
    "  $$\n",
    "  \n",
    "\n",
    "\n",
    "Обратная для квадратной матрицы A (англ. inverse matrix) — матрица A с верхним индексом -1, произведение которой на А равно единичной матрице\n",
    "$$\n",
    "AA^-1 = A^-1 A = E\n",
    "$$\n",
    ", поэтому произведу замену на $E$ \n",
    "($PP^-1$)\n",
    "\n",
    "$$ \n",
    "af = XE (X^T X)^{-1}  (P^T)-1 P^T X^Ty\n",
    "$$\n",
    "\n",
    "теперь также произведу замену $P^T^-1 P^T$ на $E$\n",
    "$$\n",
    "af = XE (X^T X)^{-1}  E X^Ty\n",
    "$$\n",
    "\n",
    "$$\n",
    "af = X (X^T X)^{-1} X^Ty\n",
    "$$\n",
    "$$\n",
    "(X^T X)^{-1} X^Ty\n",
    "$$, это формула вектора весов, поэтому заменяем формулу на w\n",
    "$$\n",
    "af = Xw\n",
    "$$\n",
    "Из этого, можно сделать вывод, что произведение матриц не меняет зависимости в линейной регрессии и предсказания остаются прежними. При этом коэфициенты будут другими, так как они основываются на другом наборе данных F."
   ]
  },
  {
   "cell_type": "markdown",
   "id": "09b0818d",
   "metadata": {},
   "source": [
    "# 3  Алгоритм преобразования"
   ]
  },
  {
   "cell_type": "markdown",
   "id": "677d118a",
   "metadata": {},
   "source": [
    "Алгоритм\n",
    "\n",
    "В качестве защиты данных буду применять умножение матриц т. е. использование так называемого \"Шифра Хилла\" Шифр Хилла – полиграммный шифр подстановки (элементы исходного открытого текста заменяются зашифрованным текстом в соответствии с некоторым правилом), в котором буквы открытого текста заменяются группами с помощью линейной алгебры Алгоритм для решения это задачи будет сосоять из следующих пунктов:\n",
    "\n",
    "    Разделение на выборки тренировочную и тестовую\n",
    "    Масштабирование признаков\n",
    "    Составление матрицы и ее проверка на обратимость\n",
    "    Получение матрицы преобразованных признаков\n",
    "\n"
   ]
  },
  {
   "cell_type": "code",
   "execution_count": 21,
   "id": "bf9d537d",
   "metadata": {},
   "outputs": [],
   "source": [
    "Random_Matrix = np.random.randn(4, 4)"
   ]
  },
  {
   "cell_type": "code",
   "execution_count": 22,
   "id": "784a9045",
   "metadata": {},
   "outputs": [
    {
     "name": "stdout",
     "output_type": "stream",
     "text": [
      "Обратная матрица к заданной существует\n"
     ]
    }
   ],
   "source": [
    "try:\n",
    "    inv_matrix = np.linalg.inv(Random_Matrix)\n",
    "    print('Обратная матрица к заданной существует')\n",
    "except:\n",
    "    print('Обратная матрица к заданной не существует')"
   ]
  },
  {
   "cell_type": "markdown",
   "id": "5864f0c0",
   "metadata": {},
   "source": [
    "Обоснование\n",
    "\n",
    "Для дальнейшей расширофки и применения данного метода матрица должна быть невырожденной. Ключ – матрица должна иметь обратную матрицу. Такое возможно, если детерминант матрицы не равен нулю и не имеет общих делителей с основанием модуля. При проверке методом np.linalg.inv() я выяснила, что обратная матрица к заданной существует.\n"
   ]
  },
  {
   "cell_type": "code",
   "execution_count": 23,
   "id": "a06c7f78",
   "metadata": {},
   "outputs": [
    {
     "name": "stdout",
     "output_type": "stream",
     "text": [
      "1.6909361192413364\n"
     ]
    }
   ],
   "source": [
    "print(np.linalg.det(Random_Matrix))"
   ]
  },
  {
   "cell_type": "markdown",
   "id": "be298ebd",
   "metadata": {},
   "source": [
    "Таким образом заданная матрица Random_Matrix называется невырожденной, если определитель не равен нулю, в противном случае матрица Random_Matrix называется вырожденной. При проверке детерминант заданной матрицы равен 1.69.\n"
   ]
  },
  {
   "cell_type": "markdown",
   "id": "af4c86d8",
   "metadata": {},
   "source": [
    "# Алгоритм"
   ]
  },
  {
   "cell_type": "code",
   "execution_count": 24,
   "id": "73118e29",
   "metadata": {},
   "outputs": [],
   "source": [
    "features = data.drop('Страховые выплаты',axis=1)\n",
    "target = data['Страховые выплаты']"
   ]
  },
  {
   "cell_type": "code",
   "execution_count": 25,
   "id": "ca50cfc7",
   "metadata": {},
   "outputs": [],
   "source": [
    "features_train, features_test, target_train, target_test = train_test_split(\n",
    "    features, target, test_size=0.25, random_state= 12345)"
   ]
  },
  {
   "cell_type": "code",
   "execution_count": 26,
   "id": "5d2c9ec2",
   "metadata": {},
   "outputs": [
    {
     "data": {
      "text/html": [
       "<div>\n",
       "<style scoped>\n",
       "    .dataframe tbody tr th:only-of-type {\n",
       "        vertical-align: middle;\n",
       "    }\n",
       "\n",
       "    .dataframe tbody tr th {\n",
       "        vertical-align: top;\n",
       "    }\n",
       "\n",
       "    .dataframe thead th {\n",
       "        text-align: right;\n",
       "    }\n",
       "</style>\n",
       "<table border=\"1\" class=\"dataframe\">\n",
       "  <thead>\n",
       "    <tr style=\"text-align: right;\">\n",
       "      <th></th>\n",
       "      <th>Пол</th>\n",
       "      <th>Возраст</th>\n",
       "      <th>Зарплата</th>\n",
       "      <th>Члены семьи</th>\n",
       "    </tr>\n",
       "  </thead>\n",
       "  <tbody>\n",
       "    <tr>\n",
       "      <th>4599</th>\n",
       "      <td>-0.984982</td>\n",
       "      <td>-0.355002</td>\n",
       "      <td>1.462162</td>\n",
       "      <td>0.719322</td>\n",
       "    </tr>\n",
       "    <tr>\n",
       "      <th>3882</th>\n",
       "      <td>1.015247</td>\n",
       "      <td>0.819399</td>\n",
       "      <td>1.081978</td>\n",
       "      <td>-0.193963</td>\n",
       "    </tr>\n",
       "    <tr>\n",
       "      <th>4705</th>\n",
       "      <td>-0.984982</td>\n",
       "      <td>-0.824762</td>\n",
       "      <td>-1.189119</td>\n",
       "      <td>-0.193963</td>\n",
       "    </tr>\n",
       "    <tr>\n",
       "      <th>1400</th>\n",
       "      <td>-0.984982</td>\n",
       "      <td>1.876360</td>\n",
       "      <td>-0.108597</td>\n",
       "      <td>-1.107248</td>\n",
       "    </tr>\n",
       "    <tr>\n",
       "      <th>728</th>\n",
       "      <td>-0.984982</td>\n",
       "      <td>1.054280</td>\n",
       "      <td>-0.738902</td>\n",
       "      <td>-0.193963</td>\n",
       "    </tr>\n",
       "  </tbody>\n",
       "</table>\n",
       "</div>"
      ],
      "text/plain": [
       "           Пол   Возраст  Зарплата  Члены семьи\n",
       "4599 -0.984982 -0.355002  1.462162     0.719322\n",
       "3882  1.015247  0.819399  1.081978    -0.193963\n",
       "4705 -0.984982 -0.824762 -1.189119    -0.193963\n",
       "1400 -0.984982  1.876360 -0.108597    -1.107248\n",
       "728  -0.984982  1.054280 -0.738902    -0.193963"
      ]
     },
     "execution_count": 26,
     "metadata": {},
     "output_type": "execute_result"
    }
   ],
   "source": [
    "#масштабирование признаков\n",
    "numeric = ['Пол', 'Возраст', 'Зарплата', 'Члены семьи']\n",
    "\n",
    "scaler = StandardScaler()\n",
    "scaler.fit(features_train[numeric])\n",
    "features_train[numeric] = scaler.transform(features_train[numeric])\n",
    "\n",
    "features_test[numeric]  = scaler.transform(features_test[numeric])\n",
    "\n",
    "pd.options.mode.chained_assignment = None\n",
    "\n",
    "features_train.head(5)"
   ]
  },
  {
   "cell_type": "code",
   "execution_count": 27,
   "id": "0a762a1c",
   "metadata": {},
   "outputs": [
    {
     "name": "stdout",
     "output_type": "stream",
     "text": [
      "w-vector coef [ 0.00728747  0.31061184  0.0017939  -0.01350564]\n",
      "Коэффициент детерминации R2 составляет 0.4230772761583671\n"
     ]
    }
   ],
   "source": [
    "LR_model = LinearRegression()\n",
    "LR_model.fit(features_train, target_train)\n",
    "R2_LR_data = r2_score(target_test, LR_model.predict(features_test))\n",
    "print(\"w-vector coef\",LR_model.coef_)\n",
    "print(\"Коэффициент детерминации R2 составляет\", R2_LR_data)"
   ]
  },
  {
   "cell_type": "code",
   "execution_count": 28,
   "id": "845bc508",
   "metadata": {},
   "outputs": [],
   "source": [
    "#Функция для применения алгоритма(умножение матриц)\n",
    "def reform_features(features):\n",
    "    reform_features = features\n",
    "    n = features.shape[1]\n",
    "    np.random.seed(12345)\n",
    "    reform_matrix = np.random.randint(1, 10, (n,n))\n",
    "    det = np.linalg.det(reform_matrix)\n",
    "    while det == 0:\n",
    "        np.random.seed(12345)\n",
    "        reform_matrix = np.random.randint(1, 10, (n,n))\n",
    "        det = np.linalg.det(cipher_matrix)\n",
    "    reform_features = reform_features @ reform_matrix\n",
    "    return reform_features, reform_matrix"
   ]
  },
  {
   "cell_type": "code",
   "execution_count": 29,
   "id": "960035ee",
   "metadata": {},
   "outputs": [
    {
     "data": {
      "text/html": [
       "<div>\n",
       "<style scoped>\n",
       "    .dataframe tbody tr th:only-of-type {\n",
       "        vertical-align: middle;\n",
       "    }\n",
       "\n",
       "    .dataframe tbody tr th {\n",
       "        vertical-align: top;\n",
       "    }\n",
       "\n",
       "    .dataframe thead th {\n",
       "        text-align: right;\n",
       "    }\n",
       "</style>\n",
       "<table border=\"1\" class=\"dataframe\">\n",
       "  <thead>\n",
       "    <tr style=\"text-align: right;\">\n",
       "      <th></th>\n",
       "      <th>Пол</th>\n",
       "      <th>Возраст</th>\n",
       "      <th>Зарплата</th>\n",
       "      <th>Члены семьи</th>\n",
       "    </tr>\n",
       "  </thead>\n",
       "  <tbody>\n",
       "    <tr>\n",
       "      <th>0</th>\n",
       "      <td>1</td>\n",
       "      <td>41</td>\n",
       "      <td>49600</td>\n",
       "      <td>1</td>\n",
       "    </tr>\n",
       "    <tr>\n",
       "      <th>1</th>\n",
       "      <td>0</td>\n",
       "      <td>46</td>\n",
       "      <td>38000</td>\n",
       "      <td>1</td>\n",
       "    </tr>\n",
       "    <tr>\n",
       "      <th>2</th>\n",
       "      <td>0</td>\n",
       "      <td>29</td>\n",
       "      <td>21000</td>\n",
       "      <td>0</td>\n",
       "    </tr>\n",
       "    <tr>\n",
       "      <th>3</th>\n",
       "      <td>0</td>\n",
       "      <td>21</td>\n",
       "      <td>41700</td>\n",
       "      <td>2</td>\n",
       "    </tr>\n",
       "    <tr>\n",
       "      <th>4</th>\n",
       "      <td>1</td>\n",
       "      <td>28</td>\n",
       "      <td>26100</td>\n",
       "      <td>0</td>\n",
       "    </tr>\n",
       "  </tbody>\n",
       "</table>\n",
       "</div>"
      ],
      "text/plain": [
       "   Пол  Возраст  Зарплата  Члены семьи\n",
       "0    1       41     49600            1\n",
       "1    0       46     38000            1\n",
       "2    0       29     21000            0\n",
       "3    0       21     41700            2\n",
       "4    1       28     26100            0"
      ]
     },
     "metadata": {},
     "output_type": "display_data"
    },
    {
     "data": {
      "text/html": [
       "<div>\n",
       "<style scoped>\n",
       "    .dataframe tbody tr th:only-of-type {\n",
       "        vertical-align: middle;\n",
       "    }\n",
       "\n",
       "    .dataframe tbody tr th {\n",
       "        vertical-align: top;\n",
       "    }\n",
       "\n",
       "    .dataframe thead th {\n",
       "        text-align: right;\n",
       "    }\n",
       "</style>\n",
       "<table border=\"1\" class=\"dataframe\">\n",
       "  <thead>\n",
       "    <tr style=\"text-align: right;\">\n",
       "      <th></th>\n",
       "      <th>0</th>\n",
       "      <th>1</th>\n",
       "      <th>2</th>\n",
       "      <th>3</th>\n",
       "    </tr>\n",
       "  </thead>\n",
       "  <tbody>\n",
       "    <tr>\n",
       "      <th>0</th>\n",
       "      <td>99452</td>\n",
       "      <td>396931</td>\n",
       "      <td>347287</td>\n",
       "      <td>49899</td>\n",
       "    </tr>\n",
       "    <tr>\n",
       "      <th>1</th>\n",
       "      <td>76279</td>\n",
       "      <td>304140</td>\n",
       "      <td>266095</td>\n",
       "      <td>38329</td>\n",
       "    </tr>\n",
       "    <tr>\n",
       "      <th>2</th>\n",
       "      <td>42174</td>\n",
       "      <td>168087</td>\n",
       "      <td>147058</td>\n",
       "      <td>21203</td>\n",
       "    </tr>\n",
       "    <tr>\n",
       "      <th>3</th>\n",
       "      <td>83532</td>\n",
       "      <td>333667</td>\n",
       "      <td>291948</td>\n",
       "      <td>41861</td>\n",
       "    </tr>\n",
       "    <tr>\n",
       "      <th>4</th>\n",
       "      <td>52371</td>\n",
       "      <td>208890</td>\n",
       "      <td>182758</td>\n",
       "      <td>26301</td>\n",
       "    </tr>\n",
       "  </tbody>\n",
       "</table>\n",
       "</div>"
      ],
      "text/plain": [
       "       0       1       2      3\n",
       "0  99452  396931  347287  49899\n",
       "1  76279  304140  266095  38329\n",
       "2  42174  168087  147058  21203\n",
       "3  83532  333667  291948  41861\n",
       "4  52371  208890  182758  26301"
      ]
     },
     "metadata": {},
     "output_type": "display_data"
    },
    {
     "data": {
      "text/plain": [
       "array([[3, 6, 2, 5],\n",
       "       [6, 3, 2, 7],\n",
       "       [2, 8, 7, 1],\n",
       "       [3, 2, 3, 7]])"
      ]
     },
     "execution_count": 29,
     "metadata": {},
     "output_type": "execute_result"
    }
   ],
   "source": [
    "display(features.head())\n",
    "features, reform_matrix = reform_features(features)\n",
    "display(features.head())\n",
    "reform_matrix"
   ]
  },
  {
   "cell_type": "markdown",
   "id": "d22b84c9",
   "metadata": {},
   "source": [
    "# 4  Проверка алгоритма"
   ]
  },
  {
   "cell_type": "code",
   "execution_count": 30,
   "id": "3f204e4e",
   "metadata": {},
   "outputs": [],
   "source": [
    "features_train, features_test, target_train, target_test = train_test_split(\n",
    "    features, target, test_size=0.25, random_state=12345)"
   ]
  },
  {
   "cell_type": "code",
   "execution_count": 31,
   "id": "7f32a3c7",
   "metadata": {},
   "outputs": [],
   "source": [
    "scaler = StandardScaler()\n",
    "scaler.fit(features_train)\n",
    "features_train = scaler.transform(features_train)\n",
    "\n",
    "features_test  = scaler.transform(features_test)\n"
   ]
  },
  {
   "cell_type": "code",
   "execution_count": 32,
   "id": "5aa936ed",
   "metadata": {},
   "outputs": [
    {
     "name": "stdout",
     "output_type": "stream",
     "text": [
      "w-vector coef [ 270.74541856  191.54849595 -404.607628    -57.69268627]\n",
      "Коэффициент детерминации R2 составляет  0.4230772761583955\n"
     ]
    }
   ],
   "source": [
    "model = LinearRegression()\n",
    "model.fit(features_train, target_train)\n",
    "R2_LR_reform_data = r2_score(target_test, model.predict(features_test))\n",
    "print(\"w-vector coef\",model.coef_)\n",
    "print(\"Коэффициент детерминации R2 составляет \", R2_LR_reform_data)"
   ]
  },
  {
   "cell_type": "code",
   "execution_count": 33,
   "id": "15ddc430",
   "metadata": {},
   "outputs": [
    {
     "data": {
      "text/html": [
       "<div>\n",
       "<style scoped>\n",
       "    .dataframe tbody tr th:only-of-type {\n",
       "        vertical-align: middle;\n",
       "    }\n",
       "\n",
       "    .dataframe tbody tr th {\n",
       "        vertical-align: top;\n",
       "    }\n",
       "\n",
       "    .dataframe thead th {\n",
       "        text-align: right;\n",
       "    }\n",
       "</style>\n",
       "<table border=\"1\" class=\"dataframe\">\n",
       "  <thead>\n",
       "    <tr style=\"text-align: right;\">\n",
       "      <th></th>\n",
       "      <th>R2</th>\n",
       "    </tr>\n",
       "  </thead>\n",
       "  <tbody>\n",
       "    <tr>\n",
       "      <th>R2 модели линейной регрессии</th>\n",
       "      <td>0.423077</td>\n",
       "    </tr>\n",
       "    <tr>\n",
       "      <th>R2 модели линейной регрессии на преобразованных признаках</th>\n",
       "      <td>0.423077</td>\n",
       "    </tr>\n",
       "  </tbody>\n",
       "</table>\n",
       "</div>"
      ],
      "text/plain": [
       "                                                          R2\n",
       "R2 модели линейной регрессии                        0.423077\n",
       "R2 модели линейной регрессии на преобразованных...  0.423077"
      ]
     },
     "execution_count": 33,
     "metadata": {},
     "output_type": "execute_result"
    }
   ],
   "source": [
    "result = pd.DataFrame(data= [R2_LR_data,\n",
    "                     R2_LR_reform_data], \n",
    "                     columns=['R2'], \n",
    "                     index=['R2 модели линейной регрессии',\n",
    "                            'R2 модели линейной регрессии на преобразованных признаках'])\n",
    "result\n"
   ]
  },
  {
   "cell_type": "markdown",
   "id": "fcf8d676",
   "metadata": {},
   "source": [
    "При проверке алгоритма для защиты данных метрика r2 практически не изменилась, из чего можно сделать вывод о том, что данный метод применим, если детерминант заданной матрицы не равен нулю и следовательно заданная матрица имеет обратную и матрица не вырождена.\n"
   ]
  },
  {
   "cell_type": "markdown",
   "id": "c0841b78",
   "metadata": {},
   "source": [
    "# Общий вывод по проекту"
   ]
  },
  {
   "cell_type": "markdown",
   "id": "797f7fb3",
   "metadata": {},
   "source": [
    "Был произведен перевод в целочисленный вид столбцов \"Возраст\", \"Зарплата\". Также я удалила дубликаты 153 из таблицы данных(3,06%) При анализе данных Наибольшая зависимость целевого признака страховых выплат от возраста(0.65).При этом страховые выплаты выплачиваются в наибольшей степени лицам от 42 лет, с не более 2-х членов семьи, при заработной плате менее 20 тысяч рублей, при этом наибольшее количество выплат суммарно от 40 до 60 тысяч рублей. Для защиты данных был применен метод \"Шифр Хилла\", умножение матриц. В ходе исследования математических формул я пришла к выводу о том что при произведении матриц качество модели Линейной регрессии не изменяется в худшую сторону. При применении данного алгоритма на данных страховой компании \"Хоть потоп\" метрика качества линейной регрессии практически не изменилась. При проверке алгоритма для защиты данных метрика r2 практически не изменилась, из чего можно сделать вывод о том, что данный метод применим, если детерминант заданной матрицы не равен нулю и следовательно заданная матрица имеет обратную и матрица не вырождена."
   ]
  }
 ],
 "metadata": {
  "kernelspec": {
   "display_name": "Python 3 (ipykernel)",
   "language": "python",
   "name": "python3"
  },
  "language_info": {
   "codemirror_mode": {
    "name": "ipython",
    "version": 3
   },
   "file_extension": ".py",
   "mimetype": "text/x-python",
   "name": "python",
   "nbconvert_exporter": "python",
   "pygments_lexer": "ipython3",
   "version": "3.9.13"
  }
 },
 "nbformat": 4,
 "nbformat_minor": 5
}
